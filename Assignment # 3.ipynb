{
 "cells": [
  {
   "cell_type": "code",
   "execution_count": 1,
   "metadata": {},
   "outputs": [
    {
     "name": "stdout",
     "output_type": "stream",
     "text": [
      "Enter First Value 2\n",
      "Enter Operator Sign **\n",
      "Enter Second Value 3\n",
      "8\n"
     ]
    }
   ],
   "source": [
    "value1 = int(input(\"Enter First Value \"))\n",
    "operator = input(\"Enter Operator Sign \")\n",
    "value2 = int(input(\"Enter Second Value \"))\n",
    "\n",
    "if operator == \"+\" :\n",
    "    print(value1 + value2)\n",
    "elif operator == \"-\" :\n",
    "    print(value1 - value2)\n",
    "elif operator == \"*\" :\n",
    "    print(value1 * value2)\n",
    "elif operator == \"/\" :\n",
    "    print(value1 / value2)\n",
    "elif operator == \"**\" :\n",
    "    print(value1 ** value2)\n",
    "        "
   ]
  },
  {
   "cell_type": "code",
   "execution_count": 12,
   "metadata": {},
   "outputs": [
    {
     "name": "stdout",
     "output_type": "stream",
     "text": [
      "Found numeric value in list 101\n",
      "Found numeric value in list 121\n"
     ]
    }
   ],
   "source": [
    "myList = [\"a\", \"b\", \"101\", \"121\", \"c\", \"d\"]\n",
    "for item in myList:\n",
    "    if item.isnumeric() == True :\n",
    "        print(\"Found numeric value in list \" + item)"
   ]
  },
  {
   "cell_type": "code",
   "execution_count": 18,
   "metadata": {},
   "outputs": [
    {
     "name": "stdout",
     "output_type": "stream",
     "text": [
      "{'name': 'Raza', 'phone': '03', 'address': 'abc'}\n"
     ]
    }
   ],
   "source": [
    "myDictionary = {\"name\" : \"Raza\", \"phone\" : \"03\"}\n",
    "myDictionary.update({\"address\":\"abc\"})\n",
    "print(myDictionary)"
   ]
  },
  {
   "cell_type": "code",
   "execution_count": 8,
   "metadata": {},
   "outputs": [
    {
     "name": "stdout",
     "output_type": "stream",
     "text": [
      "Total Sale is 700\n"
     ]
    }
   ],
   "source": [
    "productDictionary = {\"BallPen\" : \"500\", \"FountainPen\" : \"200\", \"GelPen\" : \"none\"}\n",
    "totalSale = 0\n",
    "for key, value in productDictionary.items():\n",
    "    if value.isnumeric() == True :\n",
    "        totalSale += int(value)\n",
    "print(\"Total Sale is \" + str(totalSale))"
   ]
  },
  {
   "cell_type": "code",
   "execution_count": 13,
   "metadata": {},
   "outputs": [
    {
     "name": "stdout",
     "output_type": "stream",
     "text": [
      "Duplicate value a\n",
      "Duplicate value d\n"
     ]
    }
   ],
   "source": [
    "myList = [\"a\", \"b\", \"a\", \"d\", \"c\", \"d\"]\n",
    "repatedList = []\n",
    "for item in myList :\n",
    "    if myList.count(item) > 1 and repatedList.count(item) == 0: \n",
    "        repatedList.append(item)\n",
    "        print(\"Duplicate value \"+ item)\n",
    "        "
   ]
  },
  {
   "cell_type": "code",
   "execution_count": 21,
   "metadata": {},
   "outputs": [
    {
     "name": "stdout",
     "output_type": "stream",
     "text": [
      "Enter value to check exist as key in dictionary phone\n",
      "key exist in dictionary\n"
     ]
    }
   ],
   "source": [
    "myDictionary = {\"name\" : \"Raza\", \"phone\" : \"03\"}\n",
    "keyToFind = input(\"Enter value to check exist as key in dictionary \")\n",
    "flag = False\n",
    "\n",
    "for key in myDictionary:\n",
    "    if key == keyToFind :\n",
    "        flag = True        \n",
    "        break\n",
    "        \n",
    "if flag == True :\n",
    "    print(\"key exist in dictionary\")\n",
    "else:\n",
    "    print(\"key not exist in dictionary\")"
   ]
  },
  {
   "cell_type": "code",
   "execution_count": null,
   "metadata": {},
   "outputs": [],
   "source": []
  },
  {
   "cell_type": "code",
   "execution_count": null,
   "metadata": {},
   "outputs": [],
   "source": []
  }
 ],
 "metadata": {
  "kernelspec": {
   "display_name": "Python 3",
   "language": "python",
   "name": "python3"
  },
  "language_info": {
   "codemirror_mode": {
    "name": "ipython",
    "version": 3
   },
   "file_extension": ".py",
   "mimetype": "text/x-python",
   "name": "python",
   "nbconvert_exporter": "python",
   "pygments_lexer": "ipython3",
   "version": "3.7.4"
  }
 },
 "nbformat": 4,
 "nbformat_minor": 2
}
