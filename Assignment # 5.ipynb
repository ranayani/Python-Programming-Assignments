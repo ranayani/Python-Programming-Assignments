{
 "cells": [
  {
   "cell_type": "code",
   "execution_count": 1,
   "metadata": {},
   "outputs": [
    {
     "name": "stdout",
     "output_type": "stream",
     "text": [
      "Enter any Numeric value to calculate factorial 3\n",
      "6\n"
     ]
    }
   ],
   "source": [
    "def calcFactorial(intValue):\n",
    "    result = 1\n",
    "    for i in range(1,intValue + 1):\n",
    "        result = result * i\n",
    "    print(result)\n",
    "    \n",
    "userInput = input(\"Enter any Numeric value to calculate factorial \")\n",
    "if userInput.isnumeric():\n",
    "    calcFactorial(int(userInput))\n",
    "else:\n",
    "    print(\"Invalid value entered. Please Enter any Numeric value\")"
   ]
  },
  {
   "cell_type": "code",
   "execution_count": 2,
   "metadata": {},
   "outputs": [
    {
     "name": "stdout",
     "output_type": "stream",
     "text": [
      "Enter any string value Hello WoRlD.\n",
      "Upper Case Letter count 4\n",
      "Lower Case Letter count 6\n"
     ]
    }
   ],
   "source": [
    "def lowerCaseUpperCaseCounter(strValue):\n",
    "    upperCaseLettersCount = 0\n",
    "    lowerCaseLettersCount = 0\n",
    "    for i in strValue:\n",
    "        if i.isupper():\n",
    "            upperCaseLettersCount += 1\n",
    "        elif i.islower():\n",
    "            lowerCaseLettersCount += 1\n",
    "    print(\"Upper Case Letter count \" + str(upperCaseLettersCount) + \"\\n\" + \n",
    "          \"Lower Case Letter count \" + str(lowerCaseLettersCount))\n",
    "userInput = input(\"Enter any string value \")\n",
    "lowerCaseUpperCaseCounter(userInput)\n",
    "    "
   ]
  },
  {
   "cell_type": "code",
   "execution_count": 3,
   "metadata": {},
   "outputs": [
    {
     "name": "stdout",
     "output_type": "stream",
     "text": [
      "How many value would you like to enter in List 5\n",
      "Please enter any numeric value 1\n",
      "Please enter any numeric value 2\n",
      "Please enter any numeric value s\n",
      "Please enter any numeric value r\n",
      "Please enter any numeric value t\n",
      "2\n"
     ]
    }
   ],
   "source": [
    "def printEvenNumbersFromList(intList):\n",
    "    for i in intList:\n",
    "        if i.isnumeric():\n",
    "            if int(i) % 2 == 0:\n",
    "                print(i)\n",
    "intListCount = input(\"How many value would you like to enter in List \")\n",
    "intListInput = []\n",
    "if(intListCount.isnumeric()):\n",
    "    for i in range(0,int(intListCount)):\n",
    "        value = input(\"Please enter any numeric value \")\n",
    "        intListInput.append(value)\n",
    "    printEvenNumbersFromList(intListInput)\n",
    "else:\n",
    "    print(\"Invalid value entered. Please enter any numeric value\")"
   ]
  },
  {
   "cell_type": "code",
   "execution_count": 4,
   "metadata": {},
   "outputs": [
    {
     "name": "stdout",
     "output_type": "stream",
     "text": [
      "Enter any Word civic\n",
      "Entered value is palindrome\n"
     ]
    }
   ],
   "source": [
    "def isPalindrome(str):\n",
    "    return str == str[len(str)::-1]\n",
    "strInput = input(\"Enter any Word \")\n",
    "if isPalindrome(strInput):\n",
    "    print(\"Entered value is palindrome\")\n",
    "else:\n",
    "    print(\"Entered value is not palindrome\")"
   ]
  },
  {
   "cell_type": "code",
   "execution_count": 5,
   "metadata": {},
   "outputs": [
    {
     "name": "stdout",
     "output_type": "stream",
     "text": [
      "Enter any Numeric value to check provided number is prime number or not 13\n",
      "Provided Number is Prime Number\n"
     ]
    }
   ],
   "source": [
    "def isPrimeNumber(number):\n",
    "    if number < 2:\n",
    "        return False\n",
    "    elif number == 2:\n",
    "        return True\n",
    "    else:\n",
    "        for i in range(2,number):\n",
    "            if number % i == 0:\n",
    "                return False\n",
    "        return True\n",
    "\n",
    "userInput = input(\"Enter any Numeric value to check provided number is prime number or not \")\n",
    "if userInput.isnumeric():\n",
    "    if isPrimeNumber(int(userInput)):\n",
    "        print(\"Provided Number is Prime Number\")\n",
    "    else:\n",
    "        print(\"Provided Number is not Prime Number\")\n",
    "else:\n",
    "    print(\"Invalid value entered. Please Enter any Numeric value\")"
   ]
  },
  {
   "cell_type": "code",
   "execution_count": 6,
   "metadata": {},
   "outputs": [
    {
     "name": "stdout",
     "output_type": "stream",
     "text": [
      "Pen\n",
      "Pencil\n",
      "Marker\n",
      "Highlighter\n"
     ]
    }
   ],
   "source": [
    "def printShoppingItems(*stationeryItems):\n",
    "    for item in stationeryItems:\n",
    "        print(item)\n",
    "printShoppingItems(\"Pen\",\"Pencil\",\"Marker\",\"Highlighter\")"
   ]
  },
  {
   "cell_type": "code",
   "execution_count": null,
   "metadata": {},
   "outputs": [],
   "source": []
  }
 ],
 "metadata": {
  "kernelspec": {
   "display_name": "Python 3",
   "language": "python",
   "name": "python3"
  },
  "language_info": {
   "codemirror_mode": {
    "name": "ipython",
    "version": 3
   },
   "file_extension": ".py",
   "mimetype": "text/x-python",
   "name": "python",
   "nbconvert_exporter": "python",
   "pygments_lexer": "ipython3",
   "version": "3.7.4"
  }
 },
 "nbformat": 4,
 "nbformat_minor": 2
}
