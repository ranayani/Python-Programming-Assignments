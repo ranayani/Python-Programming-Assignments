{
 "cells": [
  {
   "cell_type": "code",
   "execution_count": 8,
   "metadata": {},
   "outputs": [
    {
     "name": "stdout",
     "output_type": "stream",
     "text": [
      "Enter maths marks 98\n",
      "Enter urdu marks 85\n",
      "Enter science marks 92\n",
      "Enter english marks 85\n",
      "Enter arabic marks 85\n",
      "Total Marks \n",
      "445\n",
      "Percentage is \n",
      "89.0\n",
      "Grade is A+\n"
     ]
    }
   ],
   "source": [
    "maths = int(input(\"Enter maths marks \"))\n",
    "urdu = int(input(\"Enter urdu marks \"))\n",
    "science = int(input(\"Enter science marks \"))\n",
    "english = int(input(\"Enter english marks \"))\n",
    "arabic = int(input(\"Enter arabic marks \"))\n",
    "\n",
    "totalMarks = maths + urdu + science + english + arabic\n",
    "percentage = (totalMarks / 500) * 100\n",
    "print(\"Total Marks \") \n",
    "print(totalMarks)\n",
    "print(\"Percentage is \")\n",
    "print(percentage)\n",
    "\n",
    "if percentage >= 80 and percentage <= 100:\n",
    "    print(\"Grade is A+\")\n",
    "elif percentage >= 70 and percentage < 80:\n",
    "    print(\"Grade is A\")\n",
    "elif percentage >= 60 and percentage < 70:\n",
    "    print(\"Grade is B\")\n",
    "elif percentage >= 50 and percentage < 60:\n",
    "    print(\"Grade is C\")\n",
    "elif percentage >= 40 and percentage < 50:\n",
    "    print(\"Grade is D\")\n",
    "elif percentage >= 33 and percentage < 40:\n",
    "    print(\"Grade is E\")\n",
    "elif percentage < 33):\n",
    "    print(\"Fail\")\n",
    "else:\n",
    "    print(\"Unable to calculate percentage.\")"
   ]
  },
  {
   "cell_type": "code",
   "execution_count": 10,
   "metadata": {},
   "outputs": [
    {
     "name": "stdout",
     "output_type": "stream",
     "text": [
      "Enter any Number 3\n",
      "Odd Number Entered\n"
     ]
    }
   ],
   "source": [
    "number = int(input(\"Enter any Number \"))\n",
    "if number % 2 == 0 :\n",
    "    print(\"Even Number Entered\")\n",
    "else:\n",
    "    print(\"Odd Number Entered\")"
   ]
  },
  {
   "cell_type": "code",
   "execution_count": 18,
   "metadata": {},
   "outputs": [
    {
     "name": "stdout",
     "output_type": "stream",
     "text": [
      "5\n"
     ]
    }
   ],
   "source": [
    "myList = ['a',2,3,4,'x']\n",
    "print(len(myList))"
   ]
  },
  {
   "cell_type": "code",
   "execution_count": 20,
   "metadata": {},
   "outputs": [
    {
     "name": "stdout",
     "output_type": "stream",
     "text": [
      "15\n"
     ]
    }
   ],
   "source": [
    "numericList = [1,2,3,4,5]\n",
    "print(sum(numericList))"
   ]
  },
  {
   "cell_type": "code",
   "execution_count": 21,
   "metadata": {},
   "outputs": [
    {
     "name": "stdout",
     "output_type": "stream",
     "text": [
      "5\n"
     ]
    }
   ],
   "source": [
    "numericList.sort()\n",
    "print(numericList[-1])"
   ]
  },
  {
   "cell_type": "code",
   "execution_count": 24,
   "metadata": {},
   "outputs": [
    {
     "name": "stdout",
     "output_type": "stream",
     "text": [
      "[1, 1, 2, 3]\n"
     ]
    }
   ],
   "source": [
    "a = [1, 1, 2, 3, 5, 8, 13, 21, 34, 55, 89]\n",
    "print(a[:4])"
   ]
  },
  {
   "cell_type": "code",
   "execution_count": null,
   "metadata": {},
   "outputs": [],
   "source": []
  }
 ],
 "metadata": {
  "kernelspec": {
   "display_name": "Python 3",
   "language": "python",
   "name": "python3"
  }
 },
 "nbformat": 4,
 "nbformat_minor": 2
}
