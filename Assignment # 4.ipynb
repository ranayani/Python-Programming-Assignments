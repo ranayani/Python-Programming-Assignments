{
 "cells": [
  {
   "cell_type": "code",
   "execution_count": 1,
   "metadata": {},
   "outputs": [
    {
     "name": "stdout",
     "output_type": "stream",
     "text": [
      "first_name : Muhammad\n",
      "last_name : Arqum\n",
      "age : 25\n",
      "city : Karachi\n",
      "{'first_name': 'Muhammad', 'last_name': 'Arqum', 'age': '25', 'city': 'Karachi', 'qualification': 'Bachlors from Fedral Urdu University'}\n",
      "{'first_name': 'Muhammad', 'last_name': 'Arqum', 'age': '25', 'city': 'Karachi', 'qualification': 'MCS from University of Karachi'}\n",
      "{'first_name': 'Muhammad', 'last_name': 'Arqum', 'age': '25', 'city': 'Karachi'}\n"
     ]
    }
   ],
   "source": [
    "person = {\"first_name\" : \"Muhammad\", \"last_name\" : \"Arqum\", \"age\" : \"25\", \"city\": \"Karachi\"}\n",
    "for key,Value in person.items():\n",
    "    print(key + \" : \" + Value)\n",
    "person[\"qualification\"] = \"Bachlors from Fedral Urdu University\"\n",
    "print(person)\n",
    "person[\"qualification\"] = \"MCS from University of Karachi\"\n",
    "print(person)\n",
    "del person[\"qualification\"]\n",
    "print(person)\n",
    "\n"
   ]
  },
  {
   "cell_type": "code",
   "execution_count": 2,
   "metadata": {},
   "outputs": [
    {
     "name": "stdout",
     "output_type": "stream",
     "text": [
      "*****Karachi*****\n",
      "country : Pakistan\n",
      "population : 14.91 million\n",
      "fact : City of Light\n",
      "*****Islamabad*****\n",
      "country : Pakistan\n",
      "population : 1.015 million\n",
      "fact : Capital city of country\n",
      "*****Lahore*****\n",
      "country : Pakistan\n",
      "population : 11.13 million\n",
      "fact : One of the biggest cities of country\n"
     ]
    }
   ],
   "source": [
    "cities = {\"Karachi\" : {\"country\":\"Pakistan\",\"population\":\"14.91 million\" , \"fact\":\"City of Light\"},\n",
    "         \"Islamabad\" : {\"country\":\"Pakistan\",\"population\":\"1.015 million\" , \"fact\":\"Capital city of country\"},\n",
    "         \"Lahore\" : {\"country\":\"Pakistan\",\"population\":\"11.13 million\" , \"fact\":\"One of the biggest cities of country\"}}\n",
    "for key, value in cities.items():\n",
    "    print(\"*****\" + key + \"*****\")\n",
    "    for key, value in value.items():\n",
    "        print(key + \" : \" + value)"
   ]
  },
  {
   "cell_type": "code",
   "execution_count": 3,
   "metadata": {},
   "outputs": [
    {
     "name": "stdout",
     "output_type": "stream",
     "text": [
      "Enter your age to get ticket price 2\n",
      "the ticket is free\n",
      "Enter your age to get ticket price 3\n",
      "the ticket is $10\n",
      "Enter your age to get ticket price 12\n",
      "the ticket is $10\n",
      "Enter your age to get ticket price 13\n",
      "the ticket is $15\n",
      "Enter your age to get ticket price quit\n"
     ]
    }
   ],
   "source": [
    "while True:\n",
    "    age = input(\"Enter your age to get ticket price \")\n",
    "    if age == \"quit\":\n",
    "        break;\n",
    "    elif int(age) < 3:\n",
    "        print(\"the ticket is free\")\n",
    "    elif int(age) >= 3 and int(age) <= 12:\n",
    "        print(\"the ticket is $10\")\n",
    "    else:\n",
    "        print(\"the ticket is $15\")"
   ]
  },
  {
   "cell_type": "code",
   "execution_count": 4,
   "metadata": {},
   "outputs": [
    {
     "name": "stdout",
     "output_type": "stream",
     "text": [
      "One of my favorite book is Alice in Wonderland.\n"
     ]
    }
   ],
   "source": [
    "def favorite_book(title):\n",
    "    print(\"One of my favorite book is \" + title + \".\")\n",
    "favorite_book(\"Alice in Wonderland\")"
   ]
  },
  {
   "cell_type": "code",
   "execution_count": 5,
   "metadata": {},
   "outputs": [
    {
     "name": "stdout",
     "output_type": "stream",
     "text": [
      "Guess the Correct Number Game. \n",
      " You have three chances to Guess the Correct Number between 1 to 30\n",
      "Enter your guess number 5\n",
      "Incorrect guess number please guess again\n",
      "Hint: Your Guess Number is greater then Original Number\n",
      "Enter your guess number 4\n",
      "Incorrect guess number please guess again\n",
      "Hint: Your Guess Number is greater then Original Number\n",
      "Enter your guess number 2\n",
      "You have guess the correct number. You Win\n",
      "The number to guess was 2\n"
     ]
    }
   ],
   "source": [
    "from random import randrange\n",
    "randomNumber = randrange(1,30)\n",
    "print(\"Guess the Correct Number Game. \\nYou have three chances to Guess the Correct Number between 1 to 30\")\n",
    "for i in range(0, 3):\n",
    "    userGuess = int(input(\"Enter your guess number \"))\n",
    "    if userGuess != randomNumber :\n",
    "        print(\"Incorrect guess number please guess again\")\n",
    "        if userGuess > randomNumber:\n",
    "            print(\"Hint: Your Guess Number is greater then Hidden Number\")\n",
    "        else:\n",
    "            print(\"Hint: Your Guess Number is Lesser then Hidden Number\")\n",
    "    else:\n",
    "        print(\"You have guess the correct number. You Win\")\n",
    "        break\n",
    "print(\"The number to guess was \" + str(randomNumber))\n",
    "\n",
    "    "
   ]
  },
  {
   "cell_type": "code",
   "execution_count": null,
   "metadata": {},
   "outputs": [],
   "source": []
  }
 ],
 "metadata": {
  "kernelspec": {
   "display_name": "Python 3",
   "language": "python",
   "name": "python3"
  },
  "language_info": {
   "codemirror_mode": {
    "name": "ipython",
    "version": 3
   },
   "file_extension": ".py",
   "mimetype": "text/x-python",
   "name": "python",
   "nbconvert_exporter": "python",
   "pygments_lexer": "ipython3",
   "version": "3.7.4"
  }
 },
 "nbformat": 4,
 "nbformat_minor": 2
}
