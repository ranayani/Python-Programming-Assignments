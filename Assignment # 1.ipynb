{
 "cells": [
  {
   "cell_type": "code",
   "execution_count": 1,
   "metadata": {},
   "outputs": [
    {
     "name": "stdout",
     "output_type": "stream",
     "text": [
      "Twinkle, twinkle, little star,\n",
      "\tHow I wonder what you are!\n",
      "\t\tUp above the world so high,\n",
      "\t\tLike a diamond in the sky.\n",
      "Twinkle, twinkle, little star,\n",
      "\tHow I wonder what you are\n"
     ]
    }
   ],
   "source": [
    "print(\"Twinkle, twinkle, little star,\\n\\tHow I wonder what you are!\\n\\t\\tUp above the world so high,\\n\\t\\tLike a diamond in the sky.\\nTwinkle, twinkle, little star,\\n\\tHow I wonder what you are\")"
   ]
  },
  {
   "cell_type": "code",
   "execution_count": 3,
   "metadata": {},
   "outputs": [
    {
     "name": "stdout",
     "output_type": "stream",
     "text": [
      "3.7.4 (default, Aug  9 2019, 18:34:13) [MSC v.1915 64 bit (AMD64)]\n"
     ]
    }
   ],
   "source": [
    "import sys\n",
    "print(sys.version)"
   ]
  },
  {
   "cell_type": "code",
   "execution_count": 5,
   "metadata": {},
   "outputs": [
    {
     "name": "stdout",
     "output_type": "stream",
     "text": [
      "2019-11-05 00:56:24.585941\n"
     ]
    }
   ],
   "source": [
    "import datetime\n",
    "print(datetime.datetime.now())"
   ]
  },
  {
   "cell_type": "code",
   "execution_count": 7,
   "metadata": {},
   "outputs": [
    {
     "name": "stdout",
     "output_type": "stream",
     "text": [
      "Enter Radious of Circle 10\n",
      "314.1592653589793\n"
     ]
    }
   ],
   "source": [
    "# Area Calculation of Circle\n",
    "from math import pi\n",
    "radious = int(input(\"Enter Radious of Circle \"))\n",
    "print((pi) * radious ** 2)"
   ]
  },
  {
   "cell_type": "code",
   "execution_count": 8,
   "metadata": {},
   "outputs": [
    {
     "name": "stdout",
     "output_type": "stream",
     "text": [
      "Ali Raza\n"
     ]
    }
   ],
   "source": [
    "first_name = \"Raza\"\n",
    "last_name = \"Ali\"\n",
    "print(last_name + \" \" + first_name)"
   ]
  },
  {
   "cell_type": "code",
   "execution_count": 9,
   "metadata": {},
   "outputs": [
    {
     "name": "stdout",
     "output_type": "stream",
     "text": [
      "Input 1 = Hello\n",
      "Input 2 = World\n",
      "HelloWorld\n"
     ]
    }
   ],
   "source": [
    "val_1 = input(\"Input 1 = \")\n",
    "val_2 = input(\"Input 2 = \")\n",
    "print(val_1 + val_2)"
   ]
  },
  {
   "cell_type": "code",
   "execution_count": 19,
   "metadata": {},
   "outputs": [
    {
     "name": "stdout",
     "output_type": "stream",
     "text": [
      "Enter percentage 100\n",
      "A+\n"
     ]
    }
   ],
   "source": [
    "percentage = int(input(\"Enter percentage \"))\n",
    "if percentage >= 80 and percentage <= 100:\n",
    "    print(\"A+\")\n",
    "elif percentage >= 70 and percentage < 80:\n",
    "    print(\"A\")\n",
    "elif percentage >= 60 and percentage < 70:\n",
    "    print(\"B\")\n",
    "elif percentage >= 50 and percentage < 60:\n",
    "    print(\"C\")\n",
    "elif percentage >= 40 and percentage < 50:\n",
    "    print(\"D\")\n",
    "elif percentage >= 33 and percentage < 40:\n",
    "    print(\"E\")\n",
    "elif percentage >= 0 and percentage < 33:\n",
    "    print(\"Fail\")\n",
    "else:\n",
    "    print(\"you have given an invalid percentage\")"
   ]
  },
  {
   "cell_type": "code",
   "execution_count": null,
   "metadata": {},
   "outputs": [],
   "source": []
  }
 ],
 "metadata": {
  "kernelspec": {
   "display_name": "Python 3",
   "language": "python",
   "name": "python3"
  },
  "language_info": {
   "codemirror_mode": {
    "name": "ipython",
    "version": 3
   },
   "file_extension": ".py",
   "mimetype": "text/x-python",
   "name": "python",
   "nbconvert_exporter": "python",
   "pygments_lexer": "ipython3",
   "version": "3.7.4"
  }
 },
 "nbformat": 4,
 "nbformat_minor": 2
}
