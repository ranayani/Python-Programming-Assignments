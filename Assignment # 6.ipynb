{
 "cells": [
  {
   "cell_type": "markdown",
   "metadata": {},
   "source": [
    "### Define Object Oriented Programming? \n",
    "Object Oriented Programming is a paradigm in which real-world objects are each viewed as seprate entites having their own state which is modified only by built in procedures, called methods."
   ]
  },
  {
   "cell_type": "markdown",
   "metadata": {},
   "source": [
    "### List down benefits of OOP?\n",
    "1. Simplicity: software objects model real world objects, so the complexity is reduced and the program structure is very clear.\n",
    "2. Modularity: each object forms a separate entity whose internal workings are decoupled from other parts of the system.\n",
    "3. Modifiability: it is easy to make minor changes in the data representation or the procedures in an OO program. Changes inside a class do not affect any other part of a program, since the only public interface that the external world has to a class is through the use of methods.\n",
    "4. Extensibility: adding new features or responding to changing operating environments can be solved by introducing a few new objects and modifying some existing ones.\n",
    "5. Maintainability: objects can be maintained separately, making locating and fixing problems easier.\n",
    "6. Re-usability: objects can be reused in different programs."
   ]
  },
  {
   "cell_type": "markdown",
   "metadata": {},
   "source": [
    "### Differentiate between function and method?\n",
    "Function is the named piece of code that performs specific task it can also get data in form of parameter and may return data. Function are defined out side of the class scope.\n",
    "Those functions which are defined with in scope of class are know as Method."
   ]
  },
  {
   "cell_type": "markdown",
   "metadata": {},
   "source": [
    "### Define following terms:\n",
    "1) Class\n",
    "2) Object\n",
    "3) Attribute\n",
    "4) Behavior\n",
    "\n",
    "Class: The class is template or blue print about capability of what an object can do. It contains attributes and methods. Without class methods, a class would simply be a structure.\n",
    "\n",
    "Object: An object is an instance of class which can contains data in form of attributes. When class is defined, only the description for the object is defined. Therefore, no memory or storage is allocated.\n",
    "\n",
    "Attribute: The attribute is one of the characterstic of an object which stores information about the object example name, age, color.\n",
    "\n",
    "Behavior: The behavior is another characterstic of an object behavior is defined by its methods, which are the functions and subroutines defined within the  class example singing, dancing. "
   ]
  },
  {
   "cell_type": "code",
   "execution_count": 10,
   "metadata": {},
   "outputs": [
    {
     "name": "stdout",
     "output_type": "stream",
     "text": [
      "Name:Audi Model:A8 color:Red company:Volkswagen Group\n"
     ]
    },
    {
     "ename": "ValueError",
     "evalue": "invalid literal for int() with base 10: '83,800'",
     "output_type": "error",
     "traceback": [
      "\u001b[1;31m---------------------------------------------------------------------------\u001b[0m",
      "\u001b[1;31mValueError\u001b[0m                                Traceback (most recent call last)",
      "\u001b[1;32m<ipython-input-10-9d5fdaea0dc8>\u001b[0m in \u001b[0;36m<module>\u001b[1;34m\u001b[0m\n\u001b[0;32m     20\u001b[0m \u001b[1;33m\u001b[0m\u001b[0m\n\u001b[0;32m     21\u001b[0m \u001b[0mprint\u001b[0m\u001b[1;33m(\u001b[0m\u001b[0mcarOne\u001b[0m\u001b[1;33m.\u001b[0m\u001b[0mget_car_details\u001b[0m\u001b[1;33m(\u001b[0m\u001b[1;33m)\u001b[0m\u001b[1;33m)\u001b[0m\u001b[1;33m\u001b[0m\u001b[1;33m\u001b[0m\u001b[0m\n\u001b[1;32m---> 22\u001b[1;33m \u001b[0mprint\u001b[0m\u001b[1;33m(\u001b[0m\u001b[0mcarOne\u001b[0m\u001b[1;33m.\u001b[0m\u001b[0mget_price\u001b[0m\u001b[1;33m(\u001b[0m\u001b[1;36m1\u001b[0m\u001b[1;33m)\u001b[0m\u001b[1;33m)\u001b[0m\u001b[1;33m\u001b[0m\u001b[1;33m\u001b[0m\u001b[0m\n\u001b[0m",
      "\u001b[1;32m<ipython-input-10-9d5fdaea0dc8>\u001b[0m in \u001b[0;36mget_price\u001b[1;34m(self, units)\u001b[0m\n\u001b[0;32m      8\u001b[0m \u001b[1;33m\u001b[0m\u001b[0m\n\u001b[0;32m      9\u001b[0m     \u001b[1;32mdef\u001b[0m \u001b[0mget_price\u001b[0m\u001b[1;33m(\u001b[0m\u001b[0mself\u001b[0m\u001b[1;33m,\u001b[0m\u001b[0munits\u001b[0m\u001b[1;33m)\u001b[0m\u001b[1;33m:\u001b[0m\u001b[1;33m\u001b[0m\u001b[1;33m\u001b[0m\u001b[0m\n\u001b[1;32m---> 10\u001b[1;33m         \u001b[1;32mreturn\u001b[0m \u001b[0mint\u001b[0m\u001b[1;33m(\u001b[0m\u001b[0mself\u001b[0m\u001b[1;33m.\u001b[0m\u001b[0mprice\u001b[0m\u001b[1;33m)\u001b[0m \u001b[1;33m*\u001b[0m \u001b[0munits\u001b[0m\u001b[1;33m\u001b[0m\u001b[1;33m\u001b[0m\u001b[0m\n\u001b[0m\u001b[0;32m     11\u001b[0m \u001b[1;33m\u001b[0m\u001b[0m\n\u001b[0;32m     12\u001b[0m     \u001b[1;32mdef\u001b[0m \u001b[0mget_car_details\u001b[0m\u001b[1;33m(\u001b[0m\u001b[0mself\u001b[0m\u001b[1;33m)\u001b[0m\u001b[1;33m:\u001b[0m\u001b[1;33m\u001b[0m\u001b[1;33m\u001b[0m\u001b[0m\n",
      "\u001b[1;31mValueError\u001b[0m: invalid literal for int() with base 10: '83,800'"
     ]
    }
   ],
   "source": [
    "class Car():\n",
    "    def __init__(self, name, model, color, company, price):\n",
    "        self.name = name\n",
    "        self.model = model\n",
    "        self.color = color\n",
    "        self.company = company\n",
    "        self.price = price\n",
    "        \n",
    "    def get_price(self,units):\n",
    "        return self.price) * units\n",
    "    \n",
    "    def get_car_details(self):\n",
    "        return \"Name:\"+ self.name +\" Model:\"+self.model+\" color:\"+ self.color+\" company:\"+self.company\n",
    "    \n",
    "carOne = Car(\"Audi\",\"A8\",\"Red\",\"Volkswagen Group\",\"83,800\")\n",
    "carTwo = Car(\"Audi\",\"e-tron\",\"black\",\"Volkswagen Group\",\"74,800\")\n",
    "carThree = Car(\"Audi\",\"A7\",\"White\",\"Volkswagen Group\",\"68,000\")\n",
    "carFour = Car(\"Audi\",\"A6\",\"Gray\",\"Volkswagen Group\",\"54,100\")\n",
    "carFive = Car(\"Audi\",\"Q3\",\"Yellow\",\"Volkswagen Group\",\"34,700\")\n",
    "        \n",
    "print(carOne.get_car_details())\n",
    "print(carOne.get_price(1))"
   ]
  },
  {
   "cell_type": "code",
   "execution_count": null,
   "metadata": {},
   "outputs": [],
   "source": []
  }
 ],
 "metadata": {
  "kernelspec": {
   "display_name": "Python 3",
   "language": "python",
   "name": "python3"
  },
  "language_info": {
   "codemirror_mode": {
    "name": "ipython",
    "version": 3
   },
   "file_extension": ".py",
   "mimetype": "text/x-python",
   "name": "python",
   "nbconvert_exporter": "python",
   "pygments_lexer": "ipython3",
   "version": "3.7.4"
  }
 },
 "nbformat": 4,
 "nbformat_minor": 2
}
